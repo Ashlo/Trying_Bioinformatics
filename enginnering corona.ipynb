{
 "cells": [
  {
   "cell_type": "code",
   "execution_count": 1,
   "metadata": {},
   "outputs": [
    {
     "data": {
      "application/vnd.jupyter.widget-view+json": {
       "model_id": "66961913cc3d479bb887f7e5a1cc9f23",
       "version_major": 2,
       "version_minor": 0
      },
      "text/plain": [
       "A Jupyter Widget"
      ]
     },
     "metadata": {},
     "output_type": "display_data"
    }
   ],
   "source": [
    "import nglview as ng\n",
    "import pandas as pd\n"
   ]
  },
  {
   "cell_type": "code",
   "execution_count": 3,
   "metadata": {},
   "outputs": [],
   "source": [
    "#glycoprotiens 6VSB \n",
    "view = ng.show_pdbid('6VSB')"
   ]
  },
  {
   "cell_type": "code",
   "execution_count": 4,
   "metadata": {},
   "outputs": [
    {
     "data": {
      "application/vnd.jupyter.widget-view+json": {
       "model_id": "f5ae204dd1064340a76af45c1d637b33",
       "version_major": 2,
       "version_minor": 0
      },
      "text/plain": [
       "A Jupyter Widget"
      ]
     },
     "metadata": {},
     "output_type": "display_data"
    }
   ],
   "source": [
    "view"
   ]
  },
  {
   "cell_type": "code",
   "execution_count": 5,
   "metadata": {},
   "outputs": [],
   "source": [
    "genome_corona = \"\"\"\n",
    "                     MESLVPGFNEKTHVQLSLPVLQVRDVLVRGFGDSVEEVLSEARQ\n",
    "                     HLKDGTCGLVEVEKGVLPQLEQPYVFIKRSDARTAPHGHVMVELVAELEGIQYGRSGE\n",
    "                     TLGVLVPHVGEIPVAYRKVLLRKNGNKGAGGHSYGADLKSFDLGDELGTDPYEDFQEN\n",
    "                     WNTKHSSGVTRELMRELNGGAYTRYVDNNFCGPDGYPLECIKDLLARAGKASCTLSEQ\n",
    "                     LDFIDTKRGVYCCREHEHEIAWYTERSEKSYELQTPFEIKLAKKFDTFNGECPNFVFP\n",
    "                     LNSIIKTIQPRVEKKKLDGFMGRIRSVYPVASPNECNQMCLSTLMKCDHCGETSWQTG\n",
    "                     DFVKATCEFCGTENLTKEGATTCGYLPQNAVVKIYCPACHNSEVGPEHSLAEYHNESG\n",
    "                     LKTILRKGGRTIAFGGCVFSYVGCHNKCAYWVPRASANIGCNHTGVVGEGSEGLNDNL\n",
    "                     LEILQKEKVNINIVGDFKLNEEIAIILASFSASTSAFVETVKGLDYKAFKQIVESCGN\n",
    "                     FKVTKGKAKKGAWNIGEQKSILSPLYAFASEAARVVRSIFSRTLETAQNSVRVLQKAA\n",
    "                     ITILDGISQYSLRLIDAMMFTSDLATNNLVVMAYITGGVVQLTSQWLTNIFGTVYEKL\n",
    "                     KPVLDWLEEKFKEGVEFLRDGWEIVKFISTCACEIVGGQIVTCAKEIKESVQTFFKLV\n",
    "                     NKFLALCADSIIIGGAKLKALNLGETFVTHSKGLYRKCVKSREETGLLMPLKAPKEII\n",
    "                     FLEGETLPTEVLTEEVVLKTGDLQPLEQPTSEAVEAPLVGTPVCINGLMLLEIKDTEK\n",
    "                     YCALAPNMMVTNNTFTLKGGAPTKVTFGDDTVIEVQGYKSVNITFELDERIDKVLNEK\n",
    "                     CSAYTVELGTEVNEFACVVADAVIKTLQPVSELLTPLGIDLDEWSMATYYLFDESGEF\n",
    "                     KLASHMYCSFYPPDEDEEEGDCEEEEFEPSTQYEYGTEDDYQGKPLEFGATSAALQPE\n",
    "                     EEQEEDWLDDDSQQTVGQQDGSEDNQTTTIQTIVEVQPQLEMELTPVVQTIEVNSFSG\n",
    "                     YLKLTDNVYIKNADIVEEAKKVKPTVVVNAANVYLKHGGGVAGALNKATNNAMQVESD\n",
    "                     DYIATNGPLKVGGSCVLSGHNLAKHCLHVVGPNVNKGEDIQLLKSAYENFNQHEVLLA\n",
    "                     PLLSAGIFGADPIHSLRVCVDTVRTNVYLAVFDKNLYDKLVSSFLEMKSEKQVEQKIA\n",
    "                     EIPKEEVKPFITESKPSVEQRKQDDKKIKACVEEVTTTLEETKFLTENLLLYIDINGN\n",
    "                     LHPDSATLVSDIDITFLKKDAPYIVGDVVQEGVLTAVVIPTKKAGGTTEMLAKALRKV\n",
    "                     PTDNYITTYPGQGLNGYTVEEAKTVLKKCKSAFYILPSIISNEKQEILGTVSWNLREM\n",
    "                     LAHAEETRKLMPVCVETKAIVSTIQRKYKGIKIQEGVVDYGARFYFYTSKTTVASLIN\n",
    "                     TLNDLNETLVTMPLGYVTHGLNLEEAARYMRSLKVPATVSVSSPDAVTAYNGYLTSSS\n",
    "                     KTPEEHFIETISLAGSYKDWSYSGQSTQLGIEFLKRGDKSVYYTSNPTTFHLDGEVIT\n",
    "                     FDNLKTLLSLREVRTIKVFTTVDNINLHTQVVDMSMTYGQQFGPTYLDGADVTKIKPH\n",
    "                     NSHEGKTFYVLPNDDTLRVEAFEYYHTTDPSFLGRYMSALNHTKKWKYPQVNGLTSIK\n",
    "                     WADNNCYLATALLTLQQIELKFNPPALQDAYYRARAGEAANFCALILAYCNKTVGELG\n",
    "                     DVRETMSYLFQHANLDSCKRVLNVVCKTCGQQQTTLKGVEAVMYMGTLSYEQFKKGVQ\n",
    "                     IPCTCGKQATKYLVQQESPFVMMSAPPAQYELKHGTFTCASEYTGNYQCGHYKHITSK\n",
    "                     ETLYCIDGALLTKSSEYKGPITDVFYKENSYTTTIKPVTYKLDGVVCTEIDPKLDNYY\n",
    "                     KKDNSYFTEQPIDLVPNQPYPNASFDNFKFVCDNIKFADDLNQLTGYKKPASRELKVT\n",
    "                     FFPDLNGDVVAIDYKHYTPSFKKGAKLLHKPIVWHVNNATNKATYKPNTWCIRCLWST\n",
    "                     KPVETSNSFDVLKSEDAQGMDNLACEDLKPVSEEVVENPTIQKDVLECNVKTTEVVGD\n",
    "                     IILKPANNSLKITEEVGHTDLMAAYVDNSSLTIKKPNELSRVLGLKTLATHGLAAVNS\n",
    "                     VPWDTIANYAKPFLNKVVSTTTNIVTRCLNRVCTNYMPYFFTLLLQLCTFTRSTNSRI\n",
    "                     KASMPTTIAKNTVKSVGKFCLEASFNYLKSPNFSKLINIIIWFLLLSVCLGSLIYSTA\n",
    "                     ALGVLMSNLGMPSYCTGYREGYLNSTNVTIATYCTGSIPCSVCLSGLDSLDTYPSLET\n",
    "                     IQITISSFKWDLTAFGLVAEWFLAYILFTRFFYVLGLAAIMQLFFSYFAVHFISNSWL\n",
    "                     MWLIINLVQMAPISAMVRMYIFFASFYYVWKSYVHVVDGCNSSTCMMCYKRNRATRVE\n",
    "                     CTTIVNGVRRSFYVYANGGKGFCKLHNWNCVNCDTFCAGSTFISDEVARDLSLQFKRP\n",
    "                     INPTDQSSYIVDSVTVKNGSIHLYFDKAGQKTYERHSLSHFVNLDNLRANNTKGSLPI\n",
    "                     NVIVFDGKSKCEESSAKSASVYYSQLMCQPILLLDQALVSDVGDSAEVAVKMFDAYVN\n",
    "                     TFSSTFNVPMEKLKTLVATAEAELAKNVSLDNVLSTFISAARQGFVDSDVETKDVVEC\n",
    "                     LKLSHQSDIEVTGDSCNNYMLTYNKVENMTPRDLGACIDCSARHINAQVAKSHNIALI\n",
    "                     WNVKDFMSLSEQLRKQIRSAAKKNNLPFKLTCATTRQVVNVVTTKIALKGGKIVNNWL\n",
    "                     KQLIKVTLVFLFVAAIFYLITPVHVMSKHTDFSSEIIGYKAIDGGVTRDIASTDTCFA\n",
    "                     NKHADFDTWFSQRGGSYTNDKACPLIAAVITREVGFVVPGLPGTILRTTNGDFLHFLP\n",
    "                     RVFSAVGNICYTPSKLIEYTDFATSACVLAAECTIFKDASGKPVPYCYDTNVLEGSVA\n",
    "                     YESLRPDTRYVLMDGSIIQFPNTYLEGSVRVVTTFDSEYCRHGTCERSEAGVCVSTSG\n",
    "                     RWVLNNDYYRSLPGVFCGVDAVNLLTNMFTPLIQPIGALDISASIVAGGIVAIVVTCL\n",
    "                     AYYFMRFRRAFGEYSHVVAFNTLLFLMSFTVLCLTPVYSFLPGVYSVIYLYLTFYLTN\n",
    "                     DVSFLAHIQWMVMFTPLVPFWITIAYIICISTKHFYWFFSNYLKRRVVFNGVSFSTFE\n",
    "                     EAALCTFLLNKEMYLKLRSDVLLPLTQYNRYLALYNKYKYFSGAMDTTSYREAACCHL\n",
    "                     AKALNDFSNSGSDVLYQPPQTSITSAVLQSGFRKMAFPSGKVEGCMVQVTCGTTTLNG\n",
    "                     LWLDDVVYCPRHVICTSEDMLNPNYEDLLIRKSNHNFLVQAGNVQLRVIGHSMQNCVL\n",
    "                     KLKVDTANPKTPKYKFVRIQPGQTFSVLACYNGSPSGVYQCAMRPNFTIKGSFLNGSC\n",
    "                     GSVGFNIDYDCVSFCYMHHMELPTGVHAGTDLEGNFYGPFVDRQTAQAAGTDTTITVN\n",
    "                     VLAWLYAAVINGDRWFLNRFTTTLNDFNLVAMKYNYEPLTQDHVDILGPLSAQTGIAV\n",
    "                     LDMCASLKELLQNGMNGRTILGSALLEDEFTPFDVVRQCSGVTFQSAVKRTIKGTHHW\n",
    "                     LLLTILTSLLVLVQSTQWSLFFFLYENAFLPFAMGIIAMSAFAMMFVKHKHAFLCLFL\n",
    "                     LPSLATVAYFNMVYMPASWVMRIMTWLDMVDTSLSGFKLKDCVMYASAVVLLILMTAR\n",
    "                     TVYDDGARRVWTLMNVLTLVYKVYYGNALDQAISMWALIISVTSNYSGVVTTVMFLAR\n",
    "                     GIVFMCVEYCPIFFITGNTLQCIMLVYCFLGYFCTCYFGLFCLLNRYFRLTLGVYDYL\n",
    "                     VSTQEFRYMNSQGLLPPKNSIDAFKLNIKLLGVGGKPCIKVATVQSKMSDVKCTSVVL\n",
    "                     LSVLQQLRVESSSKLWAQCVQLHNDILLAKDTTEAFEKMVSLLSVLLSMQGAVDINKL\n",
    "                     CEEMLDNRATLQAIASEFSSLPSYAAFATAQEAYEQAVANGDSEVVLKKLKKSLNVAK\n",
    "                     SEFDRDAAMQRKLEKMADQAMTQMYKQARSEDKRAKVTSAMQTMLFTMLRKLDNDALN\n",
    "                     NIINNARDGCVPLNIIPLTTAAKLMVVIPDYNTYKNTCDGTTFTYASALWEIQQVVDA\n",
    "                     DSKIVQLSEISMDNSPNLAWPLIVTALRANSAVKLQNNELSPVALRQMSCAAGTTQTA\n",
    "                     CTDDNALAYYNTTKGGRFVLALLSDLQDLKWARFPKSDGTGTIYTELEPPCRFVTDTP\n",
    "                     KGPKVKYLYFIKGLNNLNRGMVLGSLAATVRLQAGNATEVPANSTVLSFCAFAVDAAK\n",
    "                     AYKDYLASGGQPITNCVKMLCTHTGTGQAITVTPEANMDQESFGGASCCLYCRCHIDH\n",
    "                     PNPKGFCDLKGKYVQIPTTCANDPVGFTLKNTVCTVCGMWKGYGCSCDQLREPMLQSA\n",
    "                     DAQSFLNRVCGVSAARLTPCGTGTSTDVVYRAFDIYNDKVAGFAKFLKTNCCRFQEKD\n",
    "                     EDDNLIDSYFVVKRHTFSNYQHEETIYNLLKDCPAVAKHDFFKFRIDGDMVPHISRQR\n",
    "                     LTKYTMADLVYALRHFDEGNCDTLKEILVTYNCCDDDYFNKKDWYDFVENPDILRVYA\n",
    "                     NLGERVRQALLKTVQFCDAMRNAGIVGVLTLDNQDLNGNWYDFGDFIQTTPGSGVPVV\n",
    "                     DSYYSLLMPILTLTRALTAESHVDTDLTKPYIKWDLLKYDFTEERLKLFDRYFKYWDQ\n",
    "                     TYHPNCVNCLDDRCILHCANFNVLFSTVFPPTSFGPLVRKIFVDGVPFVVSTGYHFRE\n",
    "                     LGVVHNQDVNLHSSRLSFKELLVYAADPAMHAASGNLLLDKRTTCFSVAALTNNVAFQ\n",
    "                     TVKPGNFNKDFYDFAVSKGFFKEGSSVELKHFFFAQDGNAAISDYDYYRYNLPTMCDI\n",
    "                     RQLLFVVEVVDKYFDCYDGGCINANQVIVNNLDKSAGFPFNKWGKARLYYDSMSYEDQ\n",
    "                     DALFAYTKRNVIPTITQMNLKYAISAKNRARTVAGVSICSTMTNRQFHQKLLKSIAAT\n",
    "                     RGATVVIGTSKFYGGWHNMLKTVYSDVENPHLMGWDYPKCDRAMPNMLRIMASLVLAR\n",
    "                     KHTTCCSLSHRFYRLANECAQVLSEMVMCGGSLYVKPGGTSSGDATTAYANSVFNICQ\n",
    "                     AVTANVNALLSTDGNKIADKYVRNLQHRLYECLYRNRDVDTDFVNEFYAYLRKHFSMM\n",
    "                     ILSDDAVVCFNSTYASQGLVASIKNFKSVLYYQNNVFMSEAKCWTETDLTKGPHEFCS\n",
    "                     QHTMLVKQGDDYVYLPYPDPSRILGAGCFVDDIVKTDGTLMIERFVSLAIDAYPLTKH\n",
    "                     PNQEYADVFHLYLQYIRKLHDELTGHMLDMYSVMLTNDNTSRYWEPEFYEAMYTPHTV\n",
    "                     LQAVGACVLCNSQTSLRCGACIRRPFLCCKCCYDHVISTSHKLVLSVNPYVCNAPGCD\n",
    "                     VTDVTQLYLGGMSYYCKSHKPPISFPLCANGQVFGLYKNTCVGSDNVTDFNAIATCDW\n",
    "                     TNAGDYILANTCTERLKLFAAETLKATEETFKLSYGIATVREVLSDRELHLSWEVGKP\n",
    "                     RPPLNRNYVFTGYRVTKNSKVQIGEYTFEKGDYGDAVVYRGTTTYKLNVGDYFVLTSH\n",
    "                     TVMPLSAPTLVPQEHYVRITGLYPTLNISDEFSSNVANYQKVGMQKYSTLQGPPGTGK\n",
    "                     SHFAIGLALYYPSARIVYTACSHAAVDALCEKALKYLPIDKCSRIIPARARVECFDKF\n",
    "                     KVNSTLEQYVFCTVNALPETTADIVVFDEISMATNYDLSVVNARLRAKHYVYIGDPAQ\n",
    "                     LPAPRTLLTKGTLEPEYFNSVCRLMKTIGPDMFLGTCRRCPAEIVDTVSALVYDNKLK\n",
    "                     AHKDKSAQCFKMFYKGVITHDVSSAINRPQIGVVREFLTRNPAWRKAVFISPYNSQNA\n",
    "                     VASKILGLPTQTVDSSQGSEYDYVIFTQTTETAHSCNVNRFNVAITRAKVGILCIMSD\n",
    "                     RDLYDKLQFTSLEIPRRNVATLQAENVTGLFKDCSKVITGLHPTQAPTHLSVDTKFKT\n",
    "                     EGLCVDIPGIPKDMTYRRLISMMGFKMNYQVNGYPNMFITREEAIRHVRAWIGFDVEG\n",
    "                     CHATREAVGTNLPLQLGFSTGVNLVAVPTGYVDTPNNTDFSRVSAKPPPGDQFKHLIP\n",
    "                     LMYKGLPWNVVRIKIVQMLSDTLKNLSDRVVFVLWAHGFELTSMKYFVKIGPERTCCL\n",
    "                     CDRRATCFSTASDTYACWHHSIGFDYVYNPFMIDVQQWGFTGNLQSNHDLYCQVHGNA\n",
    "                     HVASCDAIMTRCLAVHECFVKRVDWTIEYPIIGDELKINAACRKVQHMVVKAALLADK\n",
    "                     FPVLHDIGNPKAIKCVPQADVEWKFYDAQPCSDKAYKIEELFYSYATHSDKFTDGVCL\n",
    "                     FWNCNVDRYPANSIVCRFDTRVLSNLNLPGCDGGSLYVNKHAFHTPAFDKSAFVNLKQ\n",
    "                     LPFFYYSDSPCESHGKQVVSDIDYVPLKSATCITRCNLGGAVCRHHANEYRLYLDAYN\n",
    "                     MMISAGFSLWVYKQFDTYNLWNTFTRLQSLENVAFNVVNKGHFDGQQGEVPVSIINNT\n",
    "                     VYTKVDGVDVELFENKTTLPVNVAFELWAKRNIKPVPEVKILNNLGVDIAANTVIWDY\n",
    "                     KRDAPAHISTIGVCSMTDIAKKPTETICAPLTVFFDGRVDGQVDLFRNARNGVLITEG\n",
    "                     SVKGLQPSVGPKQASLNGVTLIGEAVKTQFNYYKKVDGVVQQLPETYFTQSRNLQEFK\n",
    "                     PRSQMEIDFLELAMDEFIERYKLEGYAFEHIVYGDFSHSQLGGLHLLIGLAKRFKESP\n",
    "                     FELEDFIPMDSTVKNYFITDAQTGSSKCVCSVIDLLLDDFVEIIKSQDLSVVSKVVKV\n",
    "                     TIDYTEISFMLWCKDGHVETFYPKLQSSQAWQPGVAMPNLYKMQRMLLEKCDLQNYGD\n",
    "                     SATLPKGIMMNVAKYTQLCQYLNTLTLAVPYNMRVIHFGAGSDKGVAPGTAVLRQWLP\n",
    "                     TGTLLVDSDLNDFVSDADSTLIGDCATVHTANKWDLIISDMYDPKTKNVTKENDSKEG\n",
    "                     FFTYICGFIQQKLALGGSVAIKITEHSWNADLYKLMGHFAWWTAFVTNVNASSSEAFL\n",
    "                     IGCNYLGKPREQIDGYVMHANYIFWRNTNPIQLSSYSLFDMSKFPLKLRGTAVMSLKE\n",
    "                     GQINDMILSLLSKGRLIIRENNRVVISSDVLVNN\n",
    "\"\"\""
   ]
  },
  {
   "cell_type": "code",
   "execution_count": 6,
   "metadata": {},
   "outputs": [],
   "source": [
    "from Bio.Seq import transcribe,translate,back_transcribe,Seq"
   ]
  },
  {
   "cell_type": "code",
   "execution_count": 7,
   "metadata": {},
   "outputs": [],
   "source": [
    "my_seq = Seq(genome_corona)"
   ]
  },
  {
   "cell_type": "code",
   "execution_count": 8,
   "metadata": {},
   "outputs": [
    {
     "data": {
      "text/plain": [
       "Alphabet()"
      ]
     },
     "execution_count": 8,
     "metadata": {},
     "output_type": "execute_result"
    }
   ],
   "source": [
    "my_seq.alphabet"
   ]
  },
  {
   "cell_type": "code",
   "execution_count": 9,
   "metadata": {},
   "outputs": [],
   "source": [
    "origin =  \"\"\"1 ttagttattc atctggaggg ggtagtaggg tcatttgtga gattctgtga ttgtgaaata\n",
    "       61 agaagaatat ttctgaggag taatggcaat gtcttgcaag gatggtaagt tgggatgttt\n",
    "      121 ggataatggg aagtatgtga ggtatacacc tgaacaagtt gaagcacttg agaggcttta\n",
    "      181 tcatgactgt cctaaaccga gttctattcg ccgtcagcag ttgatcagag agtgtcctat\n",
    "      241 tctctccaac attgagccta aacagatcaa agtgtggttt cagaaccgaa ggtaataaca\n",
    "      301 atgttcattg cttgggaatt gtggtgaatg gaagtttctg tggtgttctt tttatctact\n",
    "      361 tgatctaatc tttgttttgt gtttctgtta tgaactttag atgtagagag aaacaaagga\n",
    "      421 aagaggcttc acggcttcaa gctgtgaatc ggaagttgac ggcaatgaac aaactcttga\n",
    "      481 tggaggagaa tgatagattg cagaagcaag tgtcacagct ggtccatgaa aacagctact\n",
    "      541 tccgtcaaca tactcccaat gtgaggattc tactcttgca atatcttcag ttttcttacc\n",
    "      601 ttattgatct ctaaaatgtt tcttaagaac aataatttca ttttaatggt atgtgtatca\n",
    "      661 atttgtctct tttttttcag ccttcacttc cagctaaaga cacaagctgt gaatcggtgg\n",
    "      721 tgacgagtgg tcagcaccaa ttggcatctc aaaatcctca gagagatgct agtcctgcag\n",
    "      781 ggttggttct ttaattggaa tatggttact ctgttagtta gaaactacac ttttgtcata\n",
    "      841 tttttctgag attcattgat acatgttatg ttttcagact tttgtccatt gcagaagaaa\n",
    "      901 ctttagcaga gtttctttca aaggcaactg gaaccgctgt tgagtggatt cagatgcctg\n",
    "      961 gaatgaaggt attttattcc tctagttttg tttttgttaa ttggatatag ttattctgct\n",
    "     1021 ttttcctcaa tggttgtttt tgtattttcc gtaacagcct ggtccggatt ccattggaat\n",
    "     1081 catcgctatt tctcatggtt gcactggtgt ggcagcacgc gcctgtggcc tagtgggtct\n",
    "     1141 tgagcctaca agggtacgtg tatagaatca ttttcatcgc tgatttatac aatcttatac\n",
    "     1201 tactctacat gtgtctacat atgtaacaac attcatctct tttctctatt ttacaggttg\n",
    "     1261 cagagatcgt caaggatcgt ccttcgtggt tccgcgaatg tcgagctgtt gatgttatga\n",
    "     1321 acgtgttgcc aactgccaat ggtggaaccg ttgagctgct ttatatgcag gttagtttta\n",
    "     1381 aaccataagt gctacacagt tagaattatt tttctaaagt tgaaaatagt aaccatcatc\n",
    "     1441 ctcttcgtaa ttgcagctct atgcaccaac tacattggcc ccaccacgcg atttctggct\n",
    "     1501 gttacgttac acctctgttt tagaagatgg cagccttgtg gtatgtagct tttcttttct\n",
    "     1561 gtcagtgttc ttattcatgt tgatccattt ttcacaaggt ttaagaaatc ttataggtgt\n",
    "     1621 gcgagagatc tcttaagagc actcaaaacg gtcctagtat gccactggtt cagaattttg\n",
    "     1681 tgagagcaga aatgctttcc agtgggtact tgatacggcc ttgtgatggt ggtggctcaa\n",
    "     1741 tcatacacat agtggatcat atggatttgg aggtaacgag cctcactctg caccaattcg\n",
    "     1801 gtcttggaaa tgttaaccaa actgtttgga tatttgttca cttaaatagg cttgtagcgt\n",
    "     1861 gcctgaggtc ttacgcccgc tctatgagtc accaaaagta cttgcacaga agacaacaat\n",
    "     1921 ggcggtatgt taattaaact catttattcc ctaaagcttg cattctgata ttgaaactac\n",
    "     1981 tgttctcaaa tgatgtatac aaatcgaatt tgtctcaaag gcactgcgtc agctcaagca\n",
    "     2041 aatagctcag gaggttactc agactaatag tagtgttaat gggtggggac ggcgtcctgc\n",
    "     2101 tgccttaaga gctctcagcc agaggctaag caggtttata tacaattacg atttgcctct\n",
    "     2161 tcttattggt gggtttgtgt cctttatatt tgcctcttct tataattttt tttccctaca\n",
    "     2221 gaggcttcaa tgaagctgta aatggtttca ctgatgaagg atggtcagtg ataggagata\n",
    "     2281 gcatggatga tgtcacaatc actgtaaact cttctccaga caagctaatg ggtctaaatc\n",
    "     2341 ttacatttgc caatggcttt gctcctgtaa gcaatgttgt tttatgcgca aaagcatcaa\n",
    "     2401 tgcttttaca ggtcagtgca ccattttttt tatagatcaa ctgatgattg tttcaacact\n",
    "     2461 ttttcacctt cttttaatgg gattttgcac ctacagaatg ttcctccggc gatcctgctt\n",
    "     2521 cggtttctga gggagcatag gtcagaatgg gctgacaaca acattgatgc gtatctagca\n",
    "     2581 gcagcagtta aagtagggcc ttgtagtgcc cgagttggag gatttggagg gcaggttata\n",
    "     2641 cttccacttg ctcatactat tgagcatgaa gaggttagtt taattttctt cgataaactt\n",
    "     2701 aatgtttttc ttttatctcc gtaagataag ttgaagaacg cttttttttt ttttcattca\n",
    "     2761 gttcatggaa gtcatcaaat tggaaggtct aggtcattcc cctgaagatg caatcgttcc\n",
    "     2821 aagagatatc ttccttcttc aagtaagtac tttaggttgt ctattttgca taaggtttta\n",
    "     2881 atgttggtct ctagtacctg attttttttt ttttttggtg attagctttg tagcggaatg\n",
    "     2941 gatgaaaatg ctgtaggaac ctgtgctgaa cttatatttg ctccaatcga cgcttcgttt\n",
    "     3001 gcggatgatg cacctctgct tccttctggt tttcgtatta tccctcttga ttccgcaaag\n",
    "     3061 gtaaaaaaaa gttatgtttt ctgtccaagt cttctattat tcagattctt aagcttttct\n",
    "     3121 tgaaccaaaa aagcaggaag tatctagccc aaaccgaacc ttggatcttg cttcggcact\n",
    "     3181 ggaaattggt tcagctggaa caaaagcctc aactgatctc tctggaaatt ccacatgtac\n",
    "     3241 aagatctgtg atgacaatag catttgagtt tggtatcgag agccatatgc aagaacatgt\n",
    "     3301 agcatccatg gctaggcagt atgttcgagg tatcatatca tcggtgcaga gagtagcatt\n",
    "     3361 ggctctttct ccttctcata tcagctcaca agttggtcta cgcactcctt tgggtactcc\n",
    "     3421 tgaagcccaa acacttgctc gttggatttg ccagagttac aggtataaac caaactatca\n",
    "     3481 aatatgttct aattttccca ccaaatcaac aatttgtagt tactaaagat gactcatttt\n",
    "     3541 acccgttgat aataggggct acatgggtgt tgagctactt aaatcaaaca gtgacggcaa\n",
    "     3601 tgaatctatt cttaagaatc tttggcatca cactgatgct ataatctgct gctcaatgaa\n",
    "     3661 ggtaacaaac acaatgttaa acacataaat gtgtattcga taggaatact tggataggaa\n",
    "     3721 tacttgactc gtgtattcgc tgatctgttt tgggatttga acatcggtta ggccttgccc\n",
    "     3781 gtcttcacat ttgcaaacca ggcgggactt gacatgctgg agactacatt agttgctctt\n",
    "     3841 caagacatct ctttagagaa gatatttgat gacaatggaa gaaagactct ttgctctgag\n",
    "     3901 ttcccacaga tcatgcaaca ggttcttaga aacattttct gatcttcatt cttatcacat\n",
    "     3961 atgtttagtt ttatcgactt agtaggatct attttttcag ggcttcgcgt gccttcaagg\n",
    "     4021 cgggatatgt ctctcaagca tggggagacc agtttcgtat gagagagcag ttgcttggaa\n",
    "     4081 agtactaaat gaagaagaaa atgctcattg catctgcttt gtgttcatca attggtcctt\n",
    "     4141 tgtgtgagat ttattgtatt ttgtattttc agactaagct tttgcctttt ggctgtattg\n",
    "     4201 taaaacggtc atgttgttgt tgttgttgtt gttcttgatg ttgctgtgaa\"\"\""
   ]
  },
  {
   "cell_type": "code",
   "execution_count": null,
   "metadata": {},
   "outputs": [],
   "source": []
  },
  {
   "cell_type": "code",
   "execution_count": 10,
   "metadata": {},
   "outputs": [
    {
     "data": {
      "text/plain": [
       "'1 ttagttattc atctggaggg ggtagtaggg tcatttgtga gattctgtga ttgtgaaata\\n       61 agaagaatat ttctgaggag taatggcaat gtcttgcaag gatggtaagt tgggatgttt\\n      121 ggataatggg aagtatgtga ggtatacacc tgaacaagtt gaagcacttg agaggcttta\\n      181 tcatgactgt cctaaaccga gttctattcg ccgtcagcag ttgatcagag agtgtcctat\\n      241 tctctccaac attgagccta aacagatcaa agtgtggttt cagaaccgaa ggtaataaca\\n      301 atgttcattg cttgggaatt gtggtgaatg gaagtttctg tggtgttctt tttatctact\\n      361 tgatctaatc tttgttttgt gtttctgtta tgaactttag atgtagagag aaacaaagga\\n      421 aagaggcttc acggcttcaa gctgtgaatc ggaagttgac ggcaatgaac aaactcttga\\n      481 tggaggagaa tgatagattg cagaagcaag tgtcacagct ggtccatgaa aacagctact\\n      541 tccgtcaaca tactcccaat gtgaggattc tactcttgca atatcttcag ttttcttacc\\n      601 ttattgatct ctaaaatgtt tcttaagaac aataatttca ttttaatggt atgtgtatca\\n      661 atttgtctct tttttttcag ccttcacttc cagctaaaga cacaagctgt gaatcggtgg\\n      721 tgacgagtgg tcagcaccaa ttggcatctc aaaatcctca gagagatgct agtcctgcag\\n      781 ggttggttct ttaattggaa tatggttact ctgttagtta gaaactacac ttttgtcata\\n      841 tttttctgag attcattgat acatgttatg ttttcagact tttgtccatt gcagaagaaa\\n      901 ctttagcaga gtttctttca aaggcaactg gaaccgctgt tgagtggatt cagatgcctg\\n      961 gaatgaaggt attttattcc tctagttttg tttttgttaa ttggatatag ttattctgct\\n     1021 ttttcctcaa tggttgtttt tgtattttcc gtaacagcct ggtccggatt ccattggaat\\n     1081 catcgctatt tctcatggtt gcactggtgt ggcagcacgc gcctgtggcc tagtgggtct\\n     1141 tgagcctaca agggtacgtg tatagaatca ttttcatcgc tgatttatac aatcttatac\\n     1201 tactctacat gtgtctacat atgtaacaac attcatctct tttctctatt ttacaggttg\\n     1261 cagagatcgt caaggatcgt ccttcgtggt tccgcgaatg tcgagctgtt gatgttatga\\n     1321 acgtgttgcc aactgccaat ggtggaaccg ttgagctgct ttatatgcag gttagtttta\\n     1381 aaccataagt gctacacagt tagaattatt tttctaaagt tgaaaatagt aaccatcatc\\n     1441 ctcttcgtaa ttgcagctct atgcaccaac tacattggcc ccaccacgcg atttctggct\\n     1501 gttacgttac acctctgttt tagaagatgg cagccttgtg gtatgtagct tttcttttct\\n     1561 gtcagtgttc ttattcatgt tgatccattt ttcacaaggt ttaagaaatc ttataggtgt\\n     1621 gcgagagatc tcttaagagc actcaaaacg gtcctagtat gccactggtt cagaattttg\\n     1681 tgagagcaga aatgctttcc agtgggtact tgatacggcc ttgtgatggt ggtggctcaa\\n     1741 tcatacacat agtggatcat atggatttgg aggtaacgag cctcactctg caccaattcg\\n     1801 gtcttggaaa tgttaaccaa actgtttgga tatttgttca cttaaatagg cttgtagcgt\\n     1861 gcctgaggtc ttacgcccgc tctatgagtc accaaaagta cttgcacaga agacaacaat\\n     1921 ggcggtatgt taattaaact catttattcc ctaaagcttg cattctgata ttgaaactac\\n     1981 tgttctcaaa tgatgtatac aaatcgaatt tgtctcaaag gcactgcgtc agctcaagca\\n     2041 aatagctcag gaggttactc agactaatag tagtgttaat gggtggggac ggcgtcctgc\\n     2101 tgccttaaga gctctcagcc agaggctaag caggtttata tacaattacg atttgcctct\\n     2161 tcttattggt gggtttgtgt cctttatatt tgcctcttct tataattttt tttccctaca\\n     2221 gaggcttcaa tgaagctgta aatggtttca ctgatgaagg atggtcagtg ataggagata\\n     2281 gcatggatga tgtcacaatc actgtaaact cttctccaga caagctaatg ggtctaaatc\\n     2341 ttacatttgc caatggcttt gctcctgtaa gcaatgttgt tttatgcgca aaagcatcaa\\n     2401 tgcttttaca ggtcagtgca ccattttttt tatagatcaa ctgatgattg tttcaacact\\n     2461 ttttcacctt cttttaatgg gattttgcac ctacagaatg ttcctccggc gatcctgctt\\n     2521 cggtttctga gggagcatag gtcagaatgg gctgacaaca acattgatgc gtatctagca\\n     2581 gcagcagtta aagtagggcc ttgtagtgcc cgagttggag gatttggagg gcaggttata\\n     2641 cttccacttg ctcatactat tgagcatgaa gaggttagtt taattttctt cgataaactt\\n     2701 aatgtttttc ttttatctcc gtaagataag ttgaagaacg cttttttttt ttttcattca\\n     2761 gttcatggaa gtcatcaaat tggaaggtct aggtcattcc cctgaagatg caatcgttcc\\n     2821 aagagatatc ttccttcttc aagtaagtac tttaggttgt ctattttgca taaggtttta\\n     2881 atgttggtct ctagtacctg attttttttt ttttttggtg attagctttg tagcggaatg\\n     2941 gatgaaaatg ctgtaggaac ctgtgctgaa cttatatttg ctccaatcga cgcttcgttt\\n     3001 gcggatgatg cacctctgct tccttctggt tttcgtatta tccctcttga ttccgcaaag\\n     3061 gtaaaaaaaa gttatgtttt ctgtccaagt cttctattat tcagattctt aagcttttct\\n     3121 tgaaccaaaa aagcaggaag tatctagccc aaaccgaacc ttggatcttg cttcggcact\\n     3181 ggaaattggt tcagctggaa caaaagcctc aactgatctc tctggaaatt ccacatgtac\\n     3241 aagatctgtg atgacaatag catttgagtt tggtatcgag agccatatgc aagaacatgt\\n     3301 agcatccatg gctaggcagt atgttcgagg tatcatatca tcggtgcaga gagtagcatt\\n     3361 ggctctttct ccttctcata tcagctcaca agttggtcta cgcactcctt tgggtactcc\\n     3421 tgaagcccaa acacttgctc gttggatttg ccagagttac aggtataaac caaactatca\\n     3481 aatatgttct aattttccca ccaaatcaac aatttgtagt tactaaagat gactcatttt\\n     3541 acccgttgat aataggggct acatgggtgt tgagctactt aaatcaaaca gtgacggcaa\\n     3601 tgaatctatt cttaagaatc tttggcatca cactgatgct ataatctgct gctcaatgaa\\n     3661 ggtaacaaac acaatgttaa acacataaat gtgtattcga taggaatact tggataggaa\\n     3721 tacttgactc gtgtattcgc tgatctgttt tgggatttga acatcggtta ggccttgccc\\n     3781 gtcttcacat ttgcaaacca ggcgggactt gacatgctgg agactacatt agttgctctt\\n     3841 caagacatct ctttagagaa gatatttgat gacaatggaa gaaagactct ttgctctgag\\n     3901 ttcccacaga tcatgcaaca ggttcttaga aacattttct gatcttcatt cttatcacat\\n     3961 atgtttagtt ttatcgactt agtaggatct attttttcag ggcttcgcgt gccttcaagg\\n     4021 cgggatatgt ctctcaagca tggggagacc agtttcgtat gagagagcag ttgcttggaa\\n     4081 agtactaaat gaagaagaaa atgctcattg catctgcttt gtgttcatca attggtcctt\\n     4141 tgtgtgagat ttattgtatt ttgtattttc agactaagct tttgcctttt ggctgtattg\\n     4201 taaaacggtc atgttgttgt tgttgttgtt gttcttgatg ttgctgtgaa'"
      ]
     },
     "execution_count": 10,
     "metadata": {},
     "output_type": "execute_result"
    }
   ],
   "source": [
    "origin"
   ]
  },
  {
   "cell_type": "code",
   "execution_count": 11,
   "metadata": {},
   "outputs": [],
   "source": [
    "origin = origin.replace(\" \",\"\")"
   ]
  },
  {
   "cell_type": "code",
   "execution_count": 12,
   "metadata": {},
   "outputs": [],
   "source": [
    "origin = ''.join([i for i in origin if not i.isdigit()])"
   ]
  },
  {
   "cell_type": "code",
   "execution_count": null,
   "metadata": {},
   "outputs": [],
   "source": []
  },
  {
   "cell_type": "code",
   "execution_count": 13,
   "metadata": {},
   "outputs": [],
   "source": [
    "temp =  origin.replace('\\n','')"
   ]
  },
  {
   "cell_type": "code",
   "execution_count": 14,
   "metadata": {},
   "outputs": [],
   "source": [
    "temp = origin.replace(\" \",\"\")\n"
   ]
  },
  {
   "cell_type": "code",
   "execution_count": 16,
   "metadata": {},
   "outputs": [
    {
     "data": {
      "text/plain": [
       "'ttagttattcatctggagggggtagtagggtcatttgtgagattctgtgattgtgaaata\\nagaagaatatttctgaggagtaatggcaatgtcttgcaaggatggtaagttgggatgttt\\nggataatgggaagtatgtgaggtatacacctgaacaagttgaagcacttgagaggcttta\\ntcatgactgtcctaaaccgagttctattcgccgtcagcagttgatcagagagtgtcctat\\ntctctccaacattgagcctaaacagatcaaagtgtggtttcagaaccgaaggtaataaca\\natgttcattgcttgggaattgtggtgaatggaagtttctgtggtgttctttttatctact\\ntgatctaatctttgttttgtgtttctgttatgaactttagatgtagagagaaacaaagga\\naagaggcttcacggcttcaagctgtgaatcggaagttgacggcaatgaacaaactcttga\\ntggaggagaatgatagattgcagaagcaagtgtcacagctggtccatgaaaacagctact\\ntccgtcaacatactcccaatgtgaggattctactcttgcaatatcttcagttttcttacc\\nttattgatctctaaaatgtttcttaagaacaataatttcattttaatggtatgtgtatca\\natttgtctcttttttttcagccttcacttccagctaaagacacaagctgtgaatcggtgg\\ntgacgagtggtcagcaccaattggcatctcaaaatcctcagagagatgctagtcctgcag\\nggttggttctttaattggaatatggttactctgttagttagaaactacacttttgtcata\\ntttttctgagattcattgatacatgttatgttttcagacttttgtccattgcagaagaaa\\nctttagcagagtttctttcaaaggcaactggaaccgctgttgagtggattcagatgcctg\\ngaatgaaggtattttattcctctagttttgtttttgttaattggatatagttattctgct\\nttttcctcaatggttgtttttgtattttccgtaacagcctggtccggattccattggaat\\ncatcgctatttctcatggttgcactggtgtggcagcacgcgcctgtggcctagtgggtct\\ntgagcctacaagggtacgtgtatagaatcattttcatcgctgatttatacaatcttatac\\ntactctacatgtgtctacatatgtaacaacattcatctcttttctctattttacaggttg\\ncagagatcgtcaaggatcgtccttcgtggttccgcgaatgtcgagctgttgatgttatga\\nacgtgttgccaactgccaatggtggaaccgttgagctgctttatatgcaggttagtttta\\naaccataagtgctacacagttagaattatttttctaaagttgaaaatagtaaccatcatc\\nctcttcgtaattgcagctctatgcaccaactacattggccccaccacgcgatttctggct\\ngttacgttacacctctgttttagaagatggcagccttgtggtatgtagcttttcttttct\\ngtcagtgttcttattcatgttgatccatttttcacaaggtttaagaaatcttataggtgt\\ngcgagagatctcttaagagcactcaaaacggtcctagtatgccactggttcagaattttg\\ntgagagcagaaatgctttccagtgggtacttgatacggccttgtgatggtggtggctcaa\\ntcatacacatagtggatcatatggatttggaggtaacgagcctcactctgcaccaattcg\\ngtcttggaaatgttaaccaaactgtttggatatttgttcacttaaataggcttgtagcgt\\ngcctgaggtcttacgcccgctctatgagtcaccaaaagtacttgcacagaagacaacaat\\nggcggtatgttaattaaactcatttattccctaaagcttgcattctgatattgaaactac\\ntgttctcaaatgatgtatacaaatcgaatttgtctcaaaggcactgcgtcagctcaagca\\naatagctcaggaggttactcagactaatagtagtgttaatgggtggggacggcgtcctgc\\ntgccttaagagctctcagccagaggctaagcaggtttatatacaattacgatttgcctct\\ntcttattggtgggtttgtgtcctttatatttgcctcttcttataattttttttccctaca\\ngaggcttcaatgaagctgtaaatggtttcactgatgaaggatggtcagtgataggagata\\ngcatggatgatgtcacaatcactgtaaactcttctccagacaagctaatgggtctaaatc\\nttacatttgccaatggctttgctcctgtaagcaatgttgttttatgcgcaaaagcatcaa\\ntgcttttacaggtcagtgcaccattttttttatagatcaactgatgattgtttcaacact\\nttttcaccttcttttaatgggattttgcacctacagaatgttcctccggcgatcctgctt\\ncggtttctgagggagcataggtcagaatgggctgacaacaacattgatgcgtatctagca\\ngcagcagttaaagtagggccttgtagtgcccgagttggaggatttggagggcaggttata\\ncttccacttgctcatactattgagcatgaagaggttagtttaattttcttcgataaactt\\naatgtttttcttttatctccgtaagataagttgaagaacgctttttttttttttcattca\\ngttcatggaagtcatcaaattggaaggtctaggtcattcccctgaagatgcaatcgttcc\\naagagatatcttccttcttcaagtaagtactttaggttgtctattttgcataaggtttta\\natgttggtctctagtacctgatttttttttttttttggtgattagctttgtagcggaatg\\ngatgaaaatgctgtaggaacctgtgctgaacttatatttgctccaatcgacgcttcgttt\\ngcggatgatgcacctctgcttccttctggttttcgtattatccctcttgattccgcaaag\\ngtaaaaaaaagttatgttttctgtccaagtcttctattattcagattcttaagcttttct\\ntgaaccaaaaaagcaggaagtatctagcccaaaccgaaccttggatcttgcttcggcact\\nggaaattggttcagctggaacaaaagcctcaactgatctctctggaaattccacatgtac\\naagatctgtgatgacaatagcatttgagtttggtatcgagagccatatgcaagaacatgt\\nagcatccatggctaggcagtatgttcgaggtatcatatcatcggtgcagagagtagcatt\\nggctctttctccttctcatatcagctcacaagttggtctacgcactcctttgggtactcc\\ntgaagcccaaacacttgctcgttggatttgccagagttacaggtataaaccaaactatca\\naatatgttctaattttcccaccaaatcaacaatttgtagttactaaagatgactcatttt\\nacccgttgataataggggctacatgggtgttgagctacttaaatcaaacagtgacggcaa\\ntgaatctattcttaagaatctttggcatcacactgatgctataatctgctgctcaatgaa\\nggtaacaaacacaatgttaaacacataaatgtgtattcgataggaatacttggataggaa\\ntacttgactcgtgtattcgctgatctgttttgggatttgaacatcggttaggccttgccc\\ngtcttcacatttgcaaaccaggcgggacttgacatgctggagactacattagttgctctt\\ncaagacatctctttagagaagatatttgatgacaatggaagaaagactctttgctctgag\\nttcccacagatcatgcaacaggttcttagaaacattttctgatcttcattcttatcacat\\natgtttagttttatcgacttagtaggatctattttttcagggcttcgcgtgccttcaagg\\ncgggatatgtctctcaagcatggggagaccagtttcgtatgagagagcagttgcttggaa\\nagtactaaatgaagaagaaaatgctcattgcatctgctttgtgttcatcaattggtcctt\\ntgtgtgagatttattgtattttgtattttcagactaagcttttgccttttggctgtattg\\ntaaaacggtcatgttgttgttgttgttgttgttcttgatgttgctgtgaa'"
      ]
     },
     "execution_count": 16,
     "metadata": {},
     "output_type": "execute_result"
    }
   ],
   "source": [
    "temp"
   ]
  },
  {
   "cell_type": "code",
   "execution_count": 18,
   "metadata": {},
   "outputs": [],
   "source": [
    "temp = temp.upper()"
   ]
  },
  {
   "cell_type": "code",
   "execution_count": 19,
   "metadata": {},
   "outputs": [],
   "source": [
    "import re"
   ]
  },
  {
   "cell_type": "code",
   "execution_count": 20,
   "metadata": {},
   "outputs": [],
   "source": [
    " regular_exp =  re.sub(r'[^\\w]', ' ', temp)"
   ]
  },
  {
   "cell_type": "code",
   "execution_count": 24,
   "metadata": {},
   "outputs": [],
   "source": [
    "sequence = regular_exp.replace(' ','')"
   ]
  },
  {
   "cell_type": "code",
   "execution_count": 26,
   "metadata": {},
   "outputs": [
    {
     "data": {
      "text/plain": [
       "'UUAGUUAUUCAUCUGGAGGGGGUAGUAGGGUCAUUUGUGAGAUUCUGUGAUUGUGAAAUAAGAAGAAUAUUUCUGAGGAGUAAUGGCAAUGUCUUGCAAGGAUGGUAAGUUGGGAUGUUUGGAUAAUGGGAAGUAUGUGAGGUAUACACCUGAACAAGUUGAAGCACUUGAGAGGCUUUAUCAUGACUGUCCUAAACCGAGUUCUAUUCGCCGUCAGCAGUUGAUCAGAGAGUGUCCUAUUCUCUCCAACAUUGAGCCUAAACAGAUCAAAGUGUGGUUUCAGAACCGAAGGUAAUAACAAUGUUCAUUGCUUGGGAAUUGUGGUGAAUGGAAGUUUCUGUGGUGUUCUUUUUAUCUACUUGAUCUAAUCUUUGUUUUGUGUUUCUGUUAUGAACUUUAGAUGUAGAGAGAAACAAAGGAAAGAGGCUUCACGGCUUCAAGCUGUGAAUCGGAAGUUGACGGCAAUGAACAAACUCUUGAUGGAGGAGAAUGAUAGAUUGCAGAAGCAAGUGUCACAGCUGGUCCAUGAAAACAGCUACUUCCGUCAACAUACUCCCAAUGUGAGGAUUCUACUCUUGCAAUAUCUUCAGUUUUCUUACCUUAUUGAUCUCUAAAAUGUUUCUUAAGAACAAUAAUUUCAUUUUAAUGGUAUGUGUAUCAAUUUGUCUCUUUUUUUUCAGCCUUCACUUCCAGCUAAAGACACAAGCUGUGAAUCGGUGGUGACGAGUGGUCAGCACCAAUUGGCAUCUCAAAAUCCUCAGAGAGAUGCUAGUCCUGCAGGGUUGGUUCUUUAAUUGGAAUAUGGUUACUCUGUUAGUUAGAAACUACACUUUUGUCAUAUUUUUCUGAGAUUCAUUGAUACAUGUUAUGUUUUCAGACUUUUGUCCAUUGCAGAAGAAACUUUAGCAGAGUUUCUUUCAAAGGCAACUGGAACCGCUGUUGAGUGGAUUCAGAUGCCUGGAAUGAAGGUAUUUUAUUCCUCUAGUUUUGUUUUUGUUAAUUGGAUAUAGUUAUUCUGCUUUUUCCUCAAUGGUUGUUUUUGUAUUUUCCGUAACAGCCUGGUCCGGAUUCCAUUGGAAUCAUCGCUAUUUCUCAUGGUUGCACUGGUGUGGCAGCACGCGCCUGUGGCCUAGUGGGUCUUGAGCCUACAAGGGUACGUGUAUAGAAUCAUUUUCAUCGCUGAUUUAUACAAUCUUAUACUACUCUACAUGUGUCUACAUAUGUAACAACAUUCAUCUCUUUUCUCUAUUUUACAGGUUGCAGAGAUCGUCAAGGAUCGUCCUUCGUGGUUCCGCGAAUGUCGAGCUGUUGAUGUUAUGAACGUGUUGCCAACUGCCAAUGGUGGAACCGUUGAGCUGCUUUAUAUGCAGGUUAGUUUUAAACCAUAAGUGCUACACAGUUAGAAUUAUUUUUCUAAAGUUGAAAAUAGUAACCAUCAUCCUCUUCGUAAUUGCAGCUCUAUGCACCAACUACAUUGGCCCCACCACGCGAUUUCUGGCUGUUACGUUACACCUCUGUUUUAGAAGAUGGCAGCCUUGUGGUAUGUAGCUUUUCUUUUCUGUCAGUGUUCUUAUUCAUGUUGAUCCAUUUUUCACAAGGUUUAAGAAAUCUUAUAGGUGUGCGAGAGAUCUCUUAAGAGCACUCAAAACGGUCCUAGUAUGCCACUGGUUCAGAAUUUUGUGAGAGCAGAAAUGCUUUCCAGUGGGUACUUGAUACGGCCUUGUGAUGGUGGUGGCUCAAUCAUACACAUAGUGGAUCAUAUGGAUUUGGAGGUAACGAGCCUCACUCUGCACCAAUUCGGUCUUGGAAAUGUUAACCAAACUGUUUGGAUAUUUGUUCACUUAAAUAGGCUUGUAGCGUGCCUGAGGUCUUACGCCCGCUCUAUGAGUCACCAAAAGUACUUGCACAGAAGACAACAAUGGCGGUAUGUUAAUUAAACUCAUUUAUUCCCUAAAGCUUGCAUUCUGAUAUUGAAACUACUGUUCUCAAAUGAUGUAUACAAAUCGAAUUUGUCUCAAAGGCACUGCGUCAGCUCAAGCAAAUAGCUCAGGAGGUUACUCAGACUAAUAGUAGUGUUAAUGGGUGGGGACGGCGUCCUGCUGCCUUAAGAGCUCUCAGCCAGAGGCUAAGCAGGUUUAUAUACAAUUACGAUUUGCCUCUUCUUAUUGGUGGGUUUGUGUCCUUUAUAUUUGCCUCUUCUUAUAAUUUUUUUUCCCUACAGAGGCUUCAAUGAAGCUGUAAAUGGUUUCACUGAUGAAGGAUGGUCAGUGAUAGGAGAUAGCAUGGAUGAUGUCACAAUCACUGUAAACUCUUCUCCAGACAAGCUAAUGGGUCUAAAUCUUACAUUUGCCAAUGGCUUUGCUCCUGUAAGCAAUGUUGUUUUAUGCGCAAAAGCAUCAAUGCUUUUACAGGUCAGUGCACCAUUUUUUUUAUAGAUCAACUGAUGAUUGUUUCAACACUUUUUCACCUUCUUUUAAUGGGAUUUUGCACCUACAGAAUGUUCCUCCGGCGAUCCUGCUUCGGUUUCUGAGGGAGCAUAGGUCAGAAUGGGCUGACAACAACAUUGAUGCGUAUCUAGCAGCAGCAGUUAAAGUAGGGCCUUGUAGUGCCCGAGUUGGAGGAUUUGGAGGGCAGGUUAUACUUCCACUUGCUCAUACUAUUGAGCAUGAAGAGGUUAGUUUAAUUUUCUUCGAUAAACUUAAUGUUUUUCUUUUAUCUCCGUAAGAUAAGUUGAAGAACGCUUUUUUUUUUUUUCAUUCAGUUCAUGGAAGUCAUCAAAUUGGAAGGUCUAGGUCAUUCCCCUGAAGAUGCAAUCGUUCCAAGAGAUAUCUUCCUUCUUCAAGUAAGUACUUUAGGUUGUCUAUUUUGCAUAAGGUUUUAAUGUUGGUCUCUAGUACCUGAUUUUUUUUUUUUUUUGGUGAUUAGCUUUGUAGCGGAAUGGAUGAAAAUGCUGUAGGAACCUGUGCUGAACUUAUAUUUGCUCCAAUCGACGCUUCGUUUGCGGAUGAUGCACCUCUGCUUCCUUCUGGUUUUCGUAUUAUCCCUCUUGAUUCCGCAAAGGUAAAAAAAAGUUAUGUUUUCUGUCCAAGUCUUCUAUUAUUCAGAUUCUUAAGCUUUUCUUGAACCAAAAAAGCAGGAAGUAUCUAGCCCAAACCGAACCUUGGAUCUUGCUUCGGCACUGGAAAUUGGUUCAGCUGGAACAAAAGCCUCAACUGAUCUCUCUGGAAAUUCCACAUGUACAAGAUCUGUGAUGACAAUAGCAUUUGAGUUUGGUAUCGAGAGCCAUAUGCAAGAACAUGUAGCAUCCAUGGCUAGGCAGUAUGUUCGAGGUAUCAUAUCAUCGGUGCAGAGAGUAGCAUUGGCUCUUUCUCCUUCUCAUAUCAGCUCACAAGUUGGUCUACGCACUCCUUUGGGUACUCCUGAAGCCCAAACACUUGCUCGUUGGAUUUGCCAGAGUUACAGGUAUAAACCAAACUAUCAAAUAUGUUCUAAUUUUCCCACCAAAUCAACAAUUUGUAGUUACUAAAGAUGACUCAUUUUACCCGUUGAUAAUAGGGGCUACAUGGGUGUUGAGCUACUUAAAUCAAACAGUGACGGCAAUGAAUCUAUUCUUAAGAAUCUUUGGCAUCACACUGAUGCUAUAAUCUGCUGCUCAAUGAAGGUAACAAACACAAUGUUAAACACAUAAAUGUGUAUUCGAUAGGAAUACUUGGAUAGGAAUACUUGACUCGUGUAUUCGCUGAUCUGUUUUGGGAUUUGAACAUCGGUUAGGCCUUGCCCGUCUUCACAUUUGCAAACCAGGCGGGACUUGACAUGCUGGAGACUACAUUAGUUGCUCUUCAAGACAUCUCUUUAGAGAAGAUAUUUGAUGACAAUGGAAGAAAGACUCUUUGCUCUGAGUUCCCACAGAUCAUGCAACAGGUUCUUAGAAACAUUUUCUGAUCUUCAUUCUUAUCACAUAUGUUUAGUUUUAUCGACUUAGUAGGAUCUAUUUUUUCAGGGCUUCGCGUGCCUUCAAGGCGGGAUAUGUCUCUCAAGCAUGGGGAGACCAGUUUCGUAUGAGAGAGCAGUUGCUUGGAAAGUACUAAAUGAAGAAGAAAAUGCUCAUUGCAUCUGCUUUGUGUUCAUCAAUUGGUCCUUUGUGUGAGAUUUAUUGUAUUUUGUAUUUUCAGACUAAGCUUUUGCCUUUUGGCUGUAUUGUAAAACGGUCAUGUUGUUGUUGUUGUUGUUGUUCUUGAUGUUGCUGUGAA'"
      ]
     },
     "execution_count": 26,
     "metadata": {},
     "output_type": "execute_result"
    }
   ],
   "source": [
    "transcribe(sequence)"
   ]
  },
  {
   "cell_type": "code",
   "execution_count": 27,
   "metadata": {},
   "outputs": [
    {
     "name": "stderr",
     "output_type": "stream",
     "text": [
      "/home/sunbeam/anaconda3/lib/python3.7/site-packages/Bio/Seq.py:2859: BiopythonWarning: Partial codon, len(sequence) not a multiple of three. Explicitly trim the sequence or add trailing N before translation. This may become an error in future.\n",
      "  BiopythonWarning,\n"
     ]
    },
    {
     "data": {
      "text/plain": [
       "'LVIHLEGVVGSFVRFCDCEIRRIFLRSNGNVLQGW*VGMFG*WEVCEVYT*TS*ST*EALS*LS*TEFYSPSAVDQRVSYSLQH*A*TDQSVVSEPKVITMFIAWELW*MEVSVVFFLST*SNLCFVFLL*TLDVERNKGKRLHGFKL*IGS*RQ*TNS*WRRMIDCRSKCHSWSMKTATSVNILPM*GFYSCNIFSFLTLLISKMFLKNNNFILMVCVSICLFFFSLHFQLKTQAVNRW*RVVSTNWHLKILREMLVLQGWFFNWNMVTLLVRNYTFVIFF*DSLIHVMFSDFCPLQKKL*QSFFQRQLEPLLSGFRCLE*RYFIPLVLFLLIGYSYSAFSSMVVFVFSVTAWSGFHWNHRYFSWLHWCGSTRLWPSGS*AYKGTCIESFSSLIYTILYYSTCVYICNNIHLFSLFYRLQRSSRIVLRGSANVELLML*TCCQLPMVEPLSCFICRLVLNHKCYTVRIIFLKLKIVTIILFVIAALCTNYIGPTTRFLAVTLHLCFRRWQPCGM*LFFSVSVLIHVDPFFTRFKKSYRCARDLLRALKTVLVCHWFRIL*EQKCFPVGT*YGLVMVVAQSYT*WIIWIWR*RASLCTNSVLEMLTKLFGYLFT*IGL*RA*GLTPAL*VTKSTCTEDNNGGMLIKLIYSLKLAF*Y*NYCSQMMYTNRICLKGTASAQANSSGGYSD***C*WVGTASCCLKSSQPEAKQVYIQLRFASSYWWVCVLYICLFL*FFFPTEASMKL*MVSLMKDGQ**EIAWMMSQSL*TLLQTS*WV*ILHLPMALLL*AMLFYAQKHQCFYRSVHHFFYRSTDDCFNTFSPSFNGILHLQNVPPAILLRFLREHRSEWADNNIDAYLAAAVKVGPCSARVGGFGGQVILPLAHTIEHEEVSLIFFDKLNVFLLSP*DKLKNAFFFFHSVHGSHQIGRSRSFP*RCNRSKRYLPSSSKYFRLSILHKVLMLVSST*FFFFFGD*LCSGMDENAVGTCAELIFAPIDASFADDAPLLPSGFRIIPLDSAKVKKSYVFCPSLLLFRFLSFS*TKKAGSI*PKPNLGSCFGTGNWFSWNKSLN*SLWKFHMYKICDDNSI*VWYREPYARTCSIHG*AVCSRYHIIGAESSIGSFSFSYQLTSWSTHSFGYS*SPNTCSLDLPELQV*TKLSNMF*FSHQINNL*LLKMTHFTR***GLHGC*AT*IKQ*RQ*IYS*ESLASH*CYNLLLNEGNKHNVKHINVYSIGILG*EYLTRVFADLFWDLNIG*ALPVFTFANQAGLDMLETTLVALQDISLEKIFDDNGRKTLCSEFPQIMQQVLRNIF*SSFLSHMFSFIDLVGSIFSGLRVPSRRDMSLKHGETSFV*ESSCLESTK*RRKCSLHLLCVHQLVLCVRFIVFCIFRLSFCLLAVL*NGHVVVVVVVLDVAV'"
      ]
     },
     "execution_count": 27,
     "metadata": {},
     "output_type": "execute_result"
    }
   ],
   "source": [
    "translate(sequence)"
   ]
  },
  {
   "cell_type": "code",
   "execution_count": 28,
   "metadata": {},
   "outputs": [
    {
     "data": {
      "text/plain": [
       "'TTAGTTATTCATCTGGAGGGGGTAGTAGGGTCATTTGTGAGATTCTGTGATTGTGAAATAAGAAGAATATTTCTGAGGAGTAATGGCAATGTCTTGCAAGGATGGTAAGTTGGGATGTTTGGATAATGGGAAGTATGTGAGGTATACACCTGAACAAGTTGAAGCACTTGAGAGGCTTTATCATGACTGTCCTAAACCGAGTTCTATTCGCCGTCAGCAGTTGATCAGAGAGTGTCCTATTCTCTCCAACATTGAGCCTAAACAGATCAAAGTGTGGTTTCAGAACCGAAGGTAATAACAATGTTCATTGCTTGGGAATTGTGGTGAATGGAAGTTTCTGTGGTGTTCTTTTTATCTACTTGATCTAATCTTTGTTTTGTGTTTCTGTTATGAACTTTAGATGTAGAGAGAAACAAAGGAAAGAGGCTTCACGGCTTCAAGCTGTGAATCGGAAGTTGACGGCAATGAACAAACTCTTGATGGAGGAGAATGATAGATTGCAGAAGCAAGTGTCACAGCTGGTCCATGAAAACAGCTACTTCCGTCAACATACTCCCAATGTGAGGATTCTACTCTTGCAATATCTTCAGTTTTCTTACCTTATTGATCTCTAAAATGTTTCTTAAGAACAATAATTTCATTTTAATGGTATGTGTATCAATTTGTCTCTTTTTTTTCAGCCTTCACTTCCAGCTAAAGACACAAGCTGTGAATCGGTGGTGACGAGTGGTCAGCACCAATTGGCATCTCAAAATCCTCAGAGAGATGCTAGTCCTGCAGGGTTGGTTCTTTAATTGGAATATGGTTACTCTGTTAGTTAGAAACTACACTTTTGTCATATTTTTCTGAGATTCATTGATACATGTTATGTTTTCAGACTTTTGTCCATTGCAGAAGAAACTTTAGCAGAGTTTCTTTCAAAGGCAACTGGAACCGCTGTTGAGTGGATTCAGATGCCTGGAATGAAGGTATTTTATTCCTCTAGTTTTGTTTTTGTTAATTGGATATAGTTATTCTGCTTTTTCCTCAATGGTTGTTTTTGTATTTTCCGTAACAGCCTGGTCCGGATTCCATTGGAATCATCGCTATTTCTCATGGTTGCACTGGTGTGGCAGCACGCGCCTGTGGCCTAGTGGGTCTTGAGCCTACAAGGGTACGTGTATAGAATCATTTTCATCGCTGATTTATACAATCTTATACTACTCTACATGTGTCTACATATGTAACAACATTCATCTCTTTTCTCTATTTTACAGGTTGCAGAGATCGTCAAGGATCGTCCTTCGTGGTTCCGCGAATGTCGAGCTGTTGATGTTATGAACGTGTTGCCAACTGCCAATGGTGGAACCGTTGAGCTGCTTTATATGCAGGTTAGTTTTAAACCATAAGTGCTACACAGTTAGAATTATTTTTCTAAAGTTGAAAATAGTAACCATCATCCTCTTCGTAATTGCAGCTCTATGCACCAACTACATTGGCCCCACCACGCGATTTCTGGCTGTTACGTTACACCTCTGTTTTAGAAGATGGCAGCCTTGTGGTATGTAGCTTTTCTTTTCTGTCAGTGTTCTTATTCATGTTGATCCATTTTTCACAAGGTTTAAGAAATCTTATAGGTGTGCGAGAGATCTCTTAAGAGCACTCAAAACGGTCCTAGTATGCCACTGGTTCAGAATTTTGTGAGAGCAGAAATGCTTTCCAGTGGGTACTTGATACGGCCTTGTGATGGTGGTGGCTCAATCATACACATAGTGGATCATATGGATTTGGAGGTAACGAGCCTCACTCTGCACCAATTCGGTCTTGGAAATGTTAACCAAACTGTTTGGATATTTGTTCACTTAAATAGGCTTGTAGCGTGCCTGAGGTCTTACGCCCGCTCTATGAGTCACCAAAAGTACTTGCACAGAAGACAACAATGGCGGTATGTTAATTAAACTCATTTATTCCCTAAAGCTTGCATTCTGATATTGAAACTACTGTTCTCAAATGATGTATACAAATCGAATTTGTCTCAAAGGCACTGCGTCAGCTCAAGCAAATAGCTCAGGAGGTTACTCAGACTAATAGTAGTGTTAATGGGTGGGGACGGCGTCCTGCTGCCTTAAGAGCTCTCAGCCAGAGGCTAAGCAGGTTTATATACAATTACGATTTGCCTCTTCTTATTGGTGGGTTTGTGTCCTTTATATTTGCCTCTTCTTATAATTTTTTTTCCCTACAGAGGCTTCAATGAAGCTGTAAATGGTTTCACTGATGAAGGATGGTCAGTGATAGGAGATAGCATGGATGATGTCACAATCACTGTAAACTCTTCTCCAGACAAGCTAATGGGTCTAAATCTTACATTTGCCAATGGCTTTGCTCCTGTAAGCAATGTTGTTTTATGCGCAAAAGCATCAATGCTTTTACAGGTCAGTGCACCATTTTTTTTATAGATCAACTGATGATTGTTTCAACACTTTTTCACCTTCTTTTAATGGGATTTTGCACCTACAGAATGTTCCTCCGGCGATCCTGCTTCGGTTTCTGAGGGAGCATAGGTCAGAATGGGCTGACAACAACATTGATGCGTATCTAGCAGCAGCAGTTAAAGTAGGGCCTTGTAGTGCCCGAGTTGGAGGATTTGGAGGGCAGGTTATACTTCCACTTGCTCATACTATTGAGCATGAAGAGGTTAGTTTAATTTTCTTCGATAAACTTAATGTTTTTCTTTTATCTCCGTAAGATAAGTTGAAGAACGCTTTTTTTTTTTTTCATTCAGTTCATGGAAGTCATCAAATTGGAAGGTCTAGGTCATTCCCCTGAAGATGCAATCGTTCCAAGAGATATCTTCCTTCTTCAAGTAAGTACTTTAGGTTGTCTATTTTGCATAAGGTTTTAATGTTGGTCTCTAGTACCTGATTTTTTTTTTTTTTTGGTGATTAGCTTTGTAGCGGAATGGATGAAAATGCTGTAGGAACCTGTGCTGAACTTATATTTGCTCCAATCGACGCTTCGTTTGCGGATGATGCACCTCTGCTTCCTTCTGGTTTTCGTATTATCCCTCTTGATTCCGCAAAGGTAAAAAAAAGTTATGTTTTCTGTCCAAGTCTTCTATTATTCAGATTCTTAAGCTTTTCTTGAACCAAAAAAGCAGGAAGTATCTAGCCCAAACCGAACCTTGGATCTTGCTTCGGCACTGGAAATTGGTTCAGCTGGAACAAAAGCCTCAACTGATCTCTCTGGAAATTCCACATGTACAAGATCTGTGATGACAATAGCATTTGAGTTTGGTATCGAGAGCCATATGCAAGAACATGTAGCATCCATGGCTAGGCAGTATGTTCGAGGTATCATATCATCGGTGCAGAGAGTAGCATTGGCTCTTTCTCCTTCTCATATCAGCTCACAAGTTGGTCTACGCACTCCTTTGGGTACTCCTGAAGCCCAAACACTTGCTCGTTGGATTTGCCAGAGTTACAGGTATAAACCAAACTATCAAATATGTTCTAATTTTCCCACCAAATCAACAATTTGTAGTTACTAAAGATGACTCATTTTACCCGTTGATAATAGGGGCTACATGGGTGTTGAGCTACTTAAATCAAACAGTGACGGCAATGAATCTATTCTTAAGAATCTTTGGCATCACACTGATGCTATAATCTGCTGCTCAATGAAGGTAACAAACACAATGTTAAACACATAAATGTGTATTCGATAGGAATACTTGGATAGGAATACTTGACTCGTGTATTCGCTGATCTGTTTTGGGATTTGAACATCGGTTAGGCCTTGCCCGTCTTCACATTTGCAAACCAGGCGGGACTTGACATGCTGGAGACTACATTAGTTGCTCTTCAAGACATCTCTTTAGAGAAGATATTTGATGACAATGGAAGAAAGACTCTTTGCTCTGAGTTCCCACAGATCATGCAACAGGTTCTTAGAAACATTTTCTGATCTTCATTCTTATCACATATGTTTAGTTTTATCGACTTAGTAGGATCTATTTTTTCAGGGCTTCGCGTGCCTTCAAGGCGGGATATGTCTCTCAAGCATGGGGAGACCAGTTTCGTATGAGAGAGCAGTTGCTTGGAAAGTACTAAATGAAGAAGAAAATGCTCATTGCATCTGCTTTGTGTTCATCAATTGGTCCTTTGTGTGAGATTTATTGTATTTTGTATTTTCAGACTAAGCTTTTGCCTTTTGGCTGTATTGTAAAACGGTCATGTTGTTGTTGTTGTTGTTGTTCTTGATGTTGCTGTGAA'"
      ]
     },
     "execution_count": 28,
     "metadata": {},
     "output_type": "execute_result"
    }
   ],
   "source": [
    "sequence"
   ]
  },
  {
   "cell_type": "code",
   "execution_count": 29,
   "metadata": {},
   "outputs": [],
   "source": [
    "coacaine_struct = ng.show_pdbid(\"2AJV\")"
   ]
  },
  {
   "cell_type": "code",
   "execution_count": 30,
   "metadata": {},
   "outputs": [
    {
     "data": {
      "application/vnd.jupyter.widget-view+json": {
       "model_id": "82fa2465b293429498d6c75ceb21952d",
       "version_major": 2,
       "version_minor": 0
      },
      "text/plain": [
       "A Jupyter Widget"
      ]
     },
     "metadata": {},
     "output_type": "display_data"
    }
   ],
   "source": [
    "coacaine_struct"
   ]
  },
  {
   "cell_type": "code",
   "execution_count": null,
   "metadata": {},
   "outputs": [],
   "source": []
  }
 ],
 "metadata": {
  "kernelspec": {
   "display_name": "Python 3",
   "language": "python",
   "name": "python3"
  },
  "language_info": {
   "codemirror_mode": {
    "name": "ipython",
    "version": 3
   },
   "file_extension": ".py",
   "mimetype": "text/x-python",
   "name": "python",
   "nbconvert_exporter": "python",
   "pygments_lexer": "ipython3",
   "version": "3.7.4"
  }
 },
 "nbformat": 4,
 "nbformat_minor": 2
}
